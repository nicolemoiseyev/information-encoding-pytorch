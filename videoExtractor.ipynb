{
 "cells": [
  {
   "cell_type": "code",
   "execution_count": 38,
   "metadata": {},
   "outputs": [],
   "source": [
    "import cv2\n",
    "import os\n",
    "import shutil\n",
    " \n",
    "path = '/Users/jialu/Documents/Encoding_Project/Encoding_simulation/dataset/dataset_keyboard_127/'\n",
    "path_extract = '/Users/jialu/Documents/Encoding_Project/Encoding_simulation/dataset/dataset_keyboard_127/extract/'\n",
    "# If folder exists, remove it first, then create an empty folder\n",
    "# So there isn't image from previous trials\n",
    "shutil.rmtree(path_extract)\n",
    "os.mkdir(path_extract)\n",
    "\n",
    "# Open the video, extract and save the images\n",
    "cap = cv2.VideoCapture(path+'pattern_video.mp4')\n",
    "\n",
    "i=1\n",
    "while(cap.isOpened()):\n",
    "    ret, frame = cap.read()\n",
    "    if ret == False:\n",
    "        break\n",
    "    frame_gs = cv2.cvtColor(frame, cv2.COLOR_BGR2GRAY)\n",
    "    cv2.imwrite(path_extract+'img_'+str(i)+'.jpg',frame_gs)\n",
    "    i+=1\n",
    "cap.release()\n",
    "cv2.destroyAllWindows()"
   ]
  }
 ],
 "metadata": {
  "kernelspec": {
   "display_name": "Python 3",
   "language": "python",
   "name": "python3"
  },
  "language_info": {
   "codemirror_mode": {
    "name": "ipython",
    "version": 3
   },
   "file_extension": ".py",
   "mimetype": "text/x-python",
   "name": "python",
   "nbconvert_exporter": "python",
   "pygments_lexer": "ipython3",
   "version": "3.8.3"
  }
 },
 "nbformat": 4,
 "nbformat_minor": 4
}
