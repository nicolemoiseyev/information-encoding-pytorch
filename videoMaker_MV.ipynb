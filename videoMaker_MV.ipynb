{
 "cells": [
  {
   "cell_type": "code",
   "execution_count": null,
   "metadata": {},
   "outputs": [],
   "source": [
    "import cv2\n",
    "import numpy as np\n",
    "import string\n",
    "import random"
   ]
  },
  {
   "cell_type": "code",
   "execution_count": null,
   "metadata": {},
   "outputs": [],
   "source": [
    "# text is entered by the users\n",
    "text = 'Dynamical systems often generate distinct outputs according to different initial conditions, and one could infer the corresponding input configuration given an output. This property captures the essence of information encoding and decoding. Here, we demonstrate the use of self-organized patterns, combined with machine learning, to achieve distributed information encoding and decoding. Our approach exploits a critical property of many natural pattern-formation systems: in repeated realizations, each initial configuration generates similar but not identical output patterns due to randomness in the patterning process. However, for sufficiently small randomness, groups of patterns that each corresponds to a unique initial configuration can be distinguished from one another. Modulating the pattern generation and machine learning model training can tune the tradeoff between encoding capacity and security. Our method is applicable for a wide variety of self-organized pattern-formation systems. ' # The text to encode in patterns\n",
    "splitted_text = [char for char in text]"
   ]
  },
  {
   "cell_type": "code",
   "execution_count": null,
   "metadata": {},
   "outputs": [],
   "source": [
    "keyboard = string.printable\n",
    "keyboard = [char for char in keyboard]\n",
    "keyboard = keyboard[0:-5]\n",
    "keyboard_dict = dict(zip(keyboard, np.linspace(1,len(keyboard)+1,len(keyboard)+1).astype(int)))\n",
    "print(keyboard_dict)"
   ]
  },
  {
   "cell_type": "code",
   "execution_count": null,
   "metadata": {},
   "outputs": [],
   "source": [
    "num_replicates = 1000\n",
    "path = 'dataset_keyboard_127/'\n",
    "path_final = path + 'final/'"
   ]
  },
  {
   "cell_type": "code",
   "execution_count": null,
   "metadata": {},
   "outputs": [],
   "source": [
    "def create_video(splitted_text,keyboard_dict, num_replicates, n, video_name):\n",
    "    \n",
    "    # n: the number of patterns used to represent the same character\n",
    "    # append the repeated images to the end of the video\n",
    "    \n",
    "    rand_img_names_array = [None]*len(splitted_text)*n\n",
    "    for i in range(0,len(splitted_text)):\n",
    "        t = splitted_text[i]\n",
    "        splitted_text_dec = keyboard_dict.get(t)\n",
    "        for j in range(0,n):\n",
    "            rand_img_idx = (splitted_text_dec-1)*num_replicates +random.randint(1, num_replicates) #get n random images \n",
    "            rand_img_names = path_final+'FImg_ID_'+str(rand_img_idx)+'.jpg'\n",
    "            insert_idx = j*len(splitted_text)+i\n",
    "            rand_img_names_array[insert_idx] = rand_img_names\n",
    "\n",
    "    # Get all images\n",
    "    img_array = []\n",
    "    for img_name in rand_img_names_array:\n",
    "        img = cv2.imread(img_name)\n",
    "        height, width, layers = img.shape\n",
    "        img_size = (width,height)\n",
    "        img_array.append(img)\n",
    "\n",
    "    fps = 15\n",
    "    video = cv2.VideoWriter(path+video_name,cv2.VideoWriter_fourcc(*'DIVX'), fps, img_size)\n",
    "\n",
    "    for i in range(len(img_array)):\n",
    "        video.write(img_array[i])\n",
    "        \n",
    "    video.release()\n",
    "    "
   ]
  },
  {
   "cell_type": "code",
   "execution_count": null,
   "metadata": {},
   "outputs": [],
   "source": [
    "create_video(splitted_text,keyboard_dict, num_replicates, 5, 'pattern_video.mp4')"
   ]
  }
 ],
 "metadata": {
  "kernelspec": {
   "display_name": "Python 3",
   "language": "python",
   "name": "python3"
  },
  "language_info": {
   "codemirror_mode": {
    "name": "ipython",
    "version": 3
   },
   "file_extension": ".py",
   "mimetype": "text/x-python",
   "name": "python",
   "nbconvert_exporter": "python",
   "pygments_lexer": "ipython3",
   "version": "3.8.3"
  }
 },
 "nbformat": 4,
 "nbformat_minor": 4
}
