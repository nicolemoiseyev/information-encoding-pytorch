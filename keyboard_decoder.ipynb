{
 "cells": [
  {
   "cell_type": "code",
   "execution_count": 2,
   "metadata": {},
   "outputs": [],
   "source": [
    "import os\n",
    "import tensorflow as tf\n",
    "from tensorflow.keras.preprocessing import image\n",
    "import keras\n",
    "from keras.models import load_model\n",
    "import numpy as np\n",
    "import pandas as pd\n",
    "from resources.data_utils import DataGenerator\n",
    "from resources.utils import prediction_standardized\n",
    "from sklearn.metrics import accuracy_score\n",
    "import string\n",
    "import random"
   ]
  },
  {
   "cell_type": "code",
   "execution_count": 3,
   "metadata": {},
   "outputs": [],
   "source": [
    "from keras.initializers import glorot_normal\n",
    "from keras.layers import Dense, Activation, Conv2D, MaxPooling2D, Reshape\n",
    "from keras.models import Sequential\n",
    "\n",
    "def build_model(nb_classes: int, image_length, seed=25):\n",
    "    initializer = glorot_normal(seed=seed)\n",
    "    model = Sequential()\n",
    "    model.add(Reshape((image_length, image_length, 1), input_shape=(image_length, image_length,)))\n",
    "\n",
    "    model.add(\n",
    "        Conv2D(64, kernel_size=(5, 5), padding='same', kernel_initializer=initializer))\n",
    "    model.add(MaxPooling2D(pool_size=(10, 10)))  \n",
    "    model.add(Activation('relu'))\n",
    "\n",
    "    model.add(\n",
    "        Conv2D(128, kernel_size=(5, 5), padding='same', kernel_initializer=initializer))\n",
    "    model.add(MaxPooling2D(pool_size=(8, 8)))  \n",
    "    model.add(Activation('relu'))\n",
    "\n",
    "    model.add(Reshape((128 * 1 * 1,), input_shape=(1, 1, 128)))\n",
    "    model.add(Dense(50, activation='relu', kernel_initializer=initializer))\n",
    "    model.add(Dense(nb_classes, activation='softmax', kernel_initializer=initializer))\n",
    "\n",
    "    return model"
   ]
  },
  {
   "cell_type": "code",
   "execution_count": 4,
   "metadata": {},
   "outputs": [],
   "source": [
    "def binary_label_to_decimal(labels: np.ndarray) -> np.ndarray:\n",
    "    \"\"\" Turns a list of binary vectors to their decimal format.\"\"\"\n",
    "    output = np.zeros(labels.shape[0])\n",
    "    for i, x in enumerate(labels):\n",
    "        output[i] = np.argmax(x)+1\n",
    "    return output.astype(int)"
   ]
  },
  {
   "cell_type": "code",
   "execution_count": 5,
   "metadata": {},
   "outputs": [],
   "source": [
    "# Load trained model\n",
    "model = build_model(nb_classes=127, image_length = 80)\n",
    "path_model = '/Users/jialu/Documents/IE_website/Keyboard/model_1.h5' # where the trianed model is stored\n",
    "model = load_model(path_model)"
   ]
  },
  {
   "cell_type": "code",
   "execution_count": 9,
   "metadata": {},
   "outputs": [],
   "source": [
    "# Get all extracted, preprocessed images\n",
    "path = '/Users/jialu/Documents/Encoding_Project/Encoding_simulation/dataset/dataset_keyboard_127/preprocessed_80/' # where the images extracted from the video are stored\n",
    "img_arr = os.listdir(path)\n",
    "decoded_text = []\n",
    "img_arr_full = []\n",
    "for img_name in img_arr:\n",
    "    img_path = path + img_name\n",
    "    img_arr_full.append(img_path)"
   ]
  },
  {
   "cell_type": "code",
   "execution_count": 7,
   "metadata": {},
   "outputs": [
    {
     "name": "stdout",
     "output_type": "stream",
     "text": [
      "['h', 'e', 'l', 'l', 'o']\n"
     ]
    }
   ],
   "source": [
    "# Get the true labels, i.e. the original text\n",
    "text = 'hello' # The original text, entered by the user\n",
    "splitted_text = [char for char in text]\n",
    "\n",
    "# create dictionaries for converting the text into numeric representations\n",
    "keyboard = string.printable\n",
    "keyboard = [char for char in keyboard]\n",
    "keyboard = keyboard[0:-5]\n",
    "keyboard_dict = dict(zip(keyboard, np.linspace(1,len(keyboard)+1,len(keyboard)+1).astype(int)))\n",
    "keyboard_dict_r = dict(zip(np.linspace(1,len(keyboard)+1,len(keyboard)+1).astype(int),keyboard))\n",
    "\n",
    "main_labels = [] #the numeric representation of the original text\n",
    "for i in splitted_text:\n",
    "    splitted_text_dec = keyboard_dict.get(i)\n",
    "    main_labels.append(splitted_text_dec)"
   ]
  },
  {
   "cell_type": "code",
   "execution_count": 10,
   "metadata": {},
   "outputs": [
    {
     "name": "stdout",
     "output_type": "stream",
     "text": [
      "1.0\n",
      "The original text: hello\n",
      "The predicted text: hello\n"
     ]
    },
    {
     "name": "stderr",
     "output_type": "stream",
     "text": [
      "/Users/jialu/opt/anaconda3/lib/python3.8/site-packages/tensorflow/python/keras/engine/training.py:1905: UserWarning: `Model.predict_generator` is deprecated and will be removed in a future version. Please use `Model.predict`, which supports generators.\n",
      "  warnings.warn('`Model.predict_generator` is deprecated and '\n"
     ]
    }
   ],
   "source": [
    "# Get the decoded text \n",
    "df_video = pd.DataFrame({\"img_path\": img_arr_full, \"label\": main_labels})\n",
    "generation_params = {\"dim\": (80,80),\"nb_classes\": 127,\"column_img\": \"img_path\",\"column_label\": \"label\"}\n",
    "test_generator = DataGenerator(data_frame=df_video, batch_size=len(img_arr_full), shuffle=False, **generation_params)\n",
    "predictions = model.predict_generator(generator=test_generator)\n",
    "predictions_dec = binary_label_to_decimal(prediction_standardized(predictions))\n",
    "\n",
    "# Compute accuracy\n",
    "acc_test = accuracy_score(main_labels, predictions_dec)\n",
    "print(acc_test)\n",
    "\n",
    "# Convert the numerical predictions into the original format \n",
    "predited_text = ''\n",
    "for i in predictions_dec:\n",
    "    t = keyboard_dict_r[i]\n",
    "    predited_text=predited_text+t\n",
    "print(\"The original text:\", text)\n",
    "print(\"The predicted text:\", predited_text)"
   ]
  }
 ],
 "metadata": {
  "kernelspec": {
   "display_name": "Python 3",
   "language": "python",
   "name": "python3"
  },
  "language_info": {
   "codemirror_mode": {
    "name": "ipython",
    "version": 3
   },
   "file_extension": ".py",
   "mimetype": "text/x-python",
   "name": "python",
   "nbconvert_exporter": "python",
   "pygments_lexer": "ipython3",
   "version": "3.8.3"
  }
 },
 "nbformat": 4,
 "nbformat_minor": 4
}
