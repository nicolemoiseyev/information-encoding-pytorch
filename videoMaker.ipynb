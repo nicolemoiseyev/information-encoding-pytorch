{
 "cells": [
  {
   "cell_type": "code",
   "execution_count": 32,
   "metadata": {},
   "outputs": [
    {
     "name": "stdout",
     "output_type": "stream",
     "text": [
      "['h', 'e', 'l', 'l', 'o']\n"
     ]
    }
   ],
   "source": [
    "import cv2\n",
    "import numpy as np\n",
    "import string\n",
    "import random\n",
    "\n",
    "text = 'hello' # The text to encode in patterns\n",
    "splitted_text = [char for char in text]\n",
    "print(splitted_text)"
   ]
  },
  {
   "cell_type": "code",
   "execution_count": 33,
   "metadata": {},
   "outputs": [
    {
     "name": "stdout",
     "output_type": "stream",
     "text": [
      "{'0': 1, '1': 2, '2': 3, '3': 4, '4': 5, '5': 6, '6': 7, '7': 8, '8': 9, '9': 10, 'a': 11, 'b': 12, 'c': 13, 'd': 14, 'e': 15, 'f': 16, 'g': 17, 'h': 18, 'i': 19, 'j': 20, 'k': 21, 'l': 22, 'm': 23, 'n': 24, 'o': 25, 'p': 26, 'q': 27, 'r': 28, 's': 29, 't': 30, 'u': 31, 'v': 32, 'w': 33, 'x': 34, 'y': 35, 'z': 36, 'A': 37, 'B': 38, 'C': 39, 'D': 40, 'E': 41, 'F': 42, 'G': 43, 'H': 44, 'I': 45, 'J': 46, 'K': 47, 'L': 48, 'M': 49, 'N': 50, 'O': 51, 'P': 52, 'Q': 53, 'R': 54, 'S': 55, 'T': 56, 'U': 57, 'V': 58, 'W': 59, 'X': 60, 'Y': 61, 'Z': 62, '!': 63, '\"': 64, '#': 65, '$': 66, '%': 67, '&': 68, \"'\": 69, '(': 70, ')': 71, '*': 72, '+': 73, ',': 74, '-': 75, '.': 76, '/': 77, ':': 78, ';': 79, '<': 80, '=': 81, '>': 82, '?': 83, '@': 84, '[': 85, '\\\\': 86, ']': 87, '^': 88, '_': 89, '`': 90, '{': 91, '|': 92, '}': 93, '~': 94, ' ': 95}\n"
     ]
    }
   ],
   "source": [
    "keyboard = string.printable\n",
    "keyboard = [char for char in keyboard]\n",
    "keyboard = keyboard[0:-5]\n",
    "keyboard_dict = dict(zip(keyboard, np.linspace(1,len(keyboard)+1,len(keyboard)+1).astype(int)))\n",
    "print(keyboard_dict)"
   ]
  },
  {
   "cell_type": "code",
   "execution_count": 34,
   "metadata": {},
   "outputs": [],
   "source": [
    "num_replicates = 1000\n",
    "path = '/Users/jialu/Documents/Encoding_Project/Encoding_simulation/dataset/dataset_keyboard_127/'\n",
    "path_final = '/Users/jialu/Documents/Encoding_Project/Encoding_simulation/dataset/dataset_keyboard_127/final/'"
   ]
  },
  {
   "cell_type": "code",
   "execution_count": 35,
   "metadata": {},
   "outputs": [
    {
     "name": "stdout",
     "output_type": "stream",
     "text": [
      "/Users/jialu/Documents/Encoding_Project/Encoding_simulation/dataset/dataset_keyboard_127/final/FImg_ID_17432.jpg\n",
      "/Users/jialu/Documents/Encoding_Project/Encoding_simulation/dataset/dataset_keyboard_127/final/FImg_ID_14123.jpg\n",
      "/Users/jialu/Documents/Encoding_Project/Encoding_simulation/dataset/dataset_keyboard_127/final/FImg_ID_21335.jpg\n",
      "/Users/jialu/Documents/Encoding_Project/Encoding_simulation/dataset/dataset_keyboard_127/final/FImg_ID_21313.jpg\n",
      "/Users/jialu/Documents/Encoding_Project/Encoding_simulation/dataset/dataset_keyboard_127/final/FImg_ID_24103.jpg\n"
     ]
    }
   ],
   "source": [
    "rand_img_names_array = []\n",
    "for i in splitted_text:\n",
    "    splitted_text_dec = keyboard_dict.get(i)\n",
    "    rand_img_idx = (splitted_text_dec-1)*num_replicates +random.randint(1, num_replicates)\n",
    "    rand_img_names = path_final+'FImg_ID_'+str(rand_img_idx)+'.jpg'\n",
    "    rand_img_names_array.append(rand_img_names)\n",
    "\n",
    "# Get all images\n",
    "img_array = []\n",
    "for img_name in rand_img_names_array:\n",
    "    print(img_name)\n",
    "    img = cv2.imread(img_name)\n",
    "    height, width, layers = img.shape\n",
    "    img_size = (width,height)\n",
    "    img_array.append(img)\n",
    "\n",
    "fps = 15\n",
    "video = cv2.VideoWriter(path+'pattern_video.mp4',cv2.VideoWriter_fourcc(*'DIVX'), fps, img_size)\n",
    " \n",
    "for i in range(len(img_array)):\n",
    "    video.write(img_array[i])\n",
    "video.release()\n"
   ]
  }
 ],
 "metadata": {
  "kernelspec": {
   "display_name": "Python 3",
   "language": "python",
   "name": "python3"
  },
  "language_info": {
   "codemirror_mode": {
    "name": "ipython",
    "version": 3
   },
   "file_extension": ".py",
   "mimetype": "text/x-python",
   "name": "python",
   "nbconvert_exporter": "python",
   "pygments_lexer": "ipython3",
   "version": "3.8.3"
  }
 },
 "nbformat": 4,
 "nbformat_minor": 4
}
